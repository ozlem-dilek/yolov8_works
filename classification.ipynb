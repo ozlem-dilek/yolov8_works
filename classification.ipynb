{
  "cells": [
    {
      "cell_type": "markdown",
      "metadata": {
        "id": "aT6X_JF4XUMi"
      },
      "source": [
        "## YOLOv8 Görüntü Sınıflandırma\n",
        "\n"
      ]
    },
    {
      "cell_type": "markdown",
      "metadata": {
        "id": "r5FNvRgiXeJ_"
      },
      "source": []
    },
    {
      "cell_type": "code",
      "execution_count": null,
      "metadata": {
        "colab": {
          "base_uri": "https://localhost:8080/"
        },
        "id": "27jG59P-Xgop",
        "outputId": "be409898-a5c8-4e41-be42-f59827034d8c"
      },
      "outputs": [
        {
          "name": "stdout",
          "output_type": "stream",
          "text": [
            "Mounted at /content/drive\n",
            "Drive already mounted at /content/drive; to attempt to forcibly remount, call drive.mount(\"/content/drive\", force_remount=True).\n"
          ]
        }
      ],
      "source": [
        "from google.colab import drive\n",
        "drive.mount('/content/drive')"
      ]
    },
    {
      "cell_type": "code",
      "execution_count": null,
      "metadata": {
        "colab": {
          "base_uri": "https://localhost:8080/"
        },
        "id": "e0_eM4w8XY6v",
        "outputId": "01678899-711a-4c96-c64a-baaa86001ef2"
      },
      "outputs": [
        {
          "name": "stdout",
          "output_type": "stream",
          "text": [
            "Collecting ultralytics\n",
            "  Downloading ultralytics-8.1.27-py3-none-any.whl (721 kB)\n",
            "\u001b[?25l     \u001b[90m━━━━━━━━━━━━━━━━━━━━━━━━━━━━━━━━━━━━━━━━\u001b[0m \u001b[32m0.0/721.2 kB\u001b[0m \u001b[31m?\u001b[0m eta \u001b[36m-:--:--\u001b[0m\r\u001b[2K     \u001b[91m━━━━━━\u001b[0m\u001b[91m╸\u001b[0m\u001b[90m━━━━━━━━━━━━━━━━━━━━━━━━━━━━━━━━━\u001b[0m \u001b[32m122.9/721.2 kB\u001b[0m \u001b[31m3.6 MB/s\u001b[0m eta \u001b[36m0:00:01\u001b[0m\r\u001b[2K     \u001b[91m━━━━━━━━━━━━━━━━━━━━━━━━━━━\u001b[0m\u001b[91m╸\u001b[0m\u001b[90m━━━━━━━━━━━━\u001b[0m \u001b[32m501.8/721.2 kB\u001b[0m \u001b[31m7.3 MB/s\u001b[0m eta \u001b[36m0:00:01\u001b[0m\r\u001b[2K     \u001b[90m━━━━━━━━━━━━━━━━━━━━━━━━━━━━━━━━━━━━━━━━\u001b[0m \u001b[32m721.2/721.2 kB\u001b[0m \u001b[31m7.2 MB/s\u001b[0m eta \u001b[36m0:00:00\u001b[0m\n",
            "\u001b[?25hRequirement already satisfied: matplotlib>=3.3.0 in /usr/local/lib/python3.10/dist-packages (from ultralytics) (3.7.1)\n",
            "Requirement already satisfied: opencv-python>=4.6.0 in /usr/local/lib/python3.10/dist-packages (from ultralytics) (4.8.0.76)\n",
            "Requirement already satisfied: pillow>=7.1.2 in /usr/local/lib/python3.10/dist-packages (from ultralytics) (9.4.0)\n",
            "Requirement already satisfied: pyyaml>=5.3.1 in /usr/local/lib/python3.10/dist-packages (from ultralytics) (6.0.1)\n",
            "Requirement already satisfied: requests>=2.23.0 in /usr/local/lib/python3.10/dist-packages (from ultralytics) (2.31.0)\n",
            "Requirement already satisfied: scipy>=1.4.1 in /usr/local/lib/python3.10/dist-packages (from ultralytics) (1.11.4)\n",
            "Requirement already satisfied: torch>=1.8.0 in /usr/local/lib/python3.10/dist-packages (from ultralytics) (2.1.0+cu121)\n",
            "Requirement already satisfied: torchvision>=0.9.0 in /usr/local/lib/python3.10/dist-packages (from ultralytics) (0.16.0+cu121)\n",
            "Requirement already satisfied: tqdm>=4.64.0 in /usr/local/lib/python3.10/dist-packages (from ultralytics) (4.66.2)\n",
            "Requirement already satisfied: psutil in /usr/local/lib/python3.10/dist-packages (from ultralytics) (5.9.5)\n",
            "Requirement already satisfied: py-cpuinfo in /usr/local/lib/python3.10/dist-packages (from ultralytics) (9.0.0)\n",
            "Collecting thop>=0.1.1 (from ultralytics)\n",
            "  Downloading thop-0.1.1.post2209072238-py3-none-any.whl (15 kB)\n",
            "Requirement already satisfied: pandas>=1.1.4 in /usr/local/lib/python3.10/dist-packages (from ultralytics) (1.5.3)\n",
            "Requirement already satisfied: seaborn>=0.11.0 in /usr/local/lib/python3.10/dist-packages (from ultralytics) (0.13.1)\n",
            "Requirement already satisfied: contourpy>=1.0.1 in /usr/local/lib/python3.10/dist-packages (from matplotlib>=3.3.0->ultralytics) (1.2.0)\n",
            "Requirement already satisfied: cycler>=0.10 in /usr/local/lib/python3.10/dist-packages (from matplotlib>=3.3.0->ultralytics) (0.12.1)\n",
            "Requirement already satisfied: fonttools>=4.22.0 in /usr/local/lib/python3.10/dist-packages (from matplotlib>=3.3.0->ultralytics) (4.49.0)\n",
            "Requirement already satisfied: kiwisolver>=1.0.1 in /usr/local/lib/python3.10/dist-packages (from matplotlib>=3.3.0->ultralytics) (1.4.5)\n",
            "Requirement already satisfied: numpy>=1.20 in /usr/local/lib/python3.10/dist-packages (from matplotlib>=3.3.0->ultralytics) (1.25.2)\n",
            "Requirement already satisfied: packaging>=20.0 in /usr/local/lib/python3.10/dist-packages (from matplotlib>=3.3.0->ultralytics) (23.2)\n",
            "Requirement already satisfied: pyparsing>=2.3.1 in /usr/local/lib/python3.10/dist-packages (from matplotlib>=3.3.0->ultralytics) (3.1.2)\n",
            "Requirement already satisfied: python-dateutil>=2.7 in /usr/local/lib/python3.10/dist-packages (from matplotlib>=3.3.0->ultralytics) (2.8.2)\n",
            "Requirement already satisfied: pytz>=2020.1 in /usr/local/lib/python3.10/dist-packages (from pandas>=1.1.4->ultralytics) (2023.4)\n",
            "Requirement already satisfied: charset-normalizer<4,>=2 in /usr/local/lib/python3.10/dist-packages (from requests>=2.23.0->ultralytics) (3.3.2)\n",
            "Requirement already satisfied: idna<4,>=2.5 in /usr/local/lib/python3.10/dist-packages (from requests>=2.23.0->ultralytics) (3.6)\n",
            "Requirement already satisfied: urllib3<3,>=1.21.1 in /usr/local/lib/python3.10/dist-packages (from requests>=2.23.0->ultralytics) (2.0.7)\n",
            "Requirement already satisfied: certifi>=2017.4.17 in /usr/local/lib/python3.10/dist-packages (from requests>=2.23.0->ultralytics) (2024.2.2)\n",
            "Requirement already satisfied: filelock in /usr/local/lib/python3.10/dist-packages (from torch>=1.8.0->ultralytics) (3.13.1)\n",
            "Requirement already satisfied: typing-extensions in /usr/local/lib/python3.10/dist-packages (from torch>=1.8.0->ultralytics) (4.10.0)\n",
            "Requirement already satisfied: sympy in /usr/local/lib/python3.10/dist-packages (from torch>=1.8.0->ultralytics) (1.12)\n",
            "Requirement already satisfied: networkx in /usr/local/lib/python3.10/dist-packages (from torch>=1.8.0->ultralytics) (3.2.1)\n",
            "Requirement already satisfied: jinja2 in /usr/local/lib/python3.10/dist-packages (from torch>=1.8.0->ultralytics) (3.1.3)\n",
            "Requirement already satisfied: fsspec in /usr/local/lib/python3.10/dist-packages (from torch>=1.8.0->ultralytics) (2023.6.0)\n",
            "Requirement already satisfied: triton==2.1.0 in /usr/local/lib/python3.10/dist-packages (from torch>=1.8.0->ultralytics) (2.1.0)\n",
            "Requirement already satisfied: six>=1.5 in /usr/local/lib/python3.10/dist-packages (from python-dateutil>=2.7->matplotlib>=3.3.0->ultralytics) (1.16.0)\n",
            "Requirement already satisfied: MarkupSafe>=2.0 in /usr/local/lib/python3.10/dist-packages (from jinja2->torch>=1.8.0->ultralytics) (2.1.5)\n",
            "Requirement already satisfied: mpmath>=0.19 in /usr/local/lib/python3.10/dist-packages (from sympy->torch>=1.8.0->ultralytics) (1.3.0)\n",
            "Installing collected packages: thop, ultralytics\n",
            "Successfully installed thop-0.1.1.post2209072238 ultralytics-8.1.27\n"
          ]
        }
      ],
      "source": [
        "!pip install ultralytics"
      ]
    },
    {
      "cell_type": "code",
      "execution_count": null,
      "metadata": {
        "colab": {
          "base_uri": "https://localhost:8080/"
        },
        "id": "1CllNm2aXdSn",
        "outputId": "609e6d77-12cf-43a8-a288-fee7645a4029"
      },
      "outputs": [
        {
          "name": "stdout",
          "output_type": "stream",
          "text": [
            "/content/drive/MyDrive/yolov8_udemy/1_image_classification\n"
          ]
        }
      ],
      "source": [
        "%cd /content/drive/MyDrive/yolov8_udemy/1_image_classification"
      ]
    },
    {
      "cell_type": "code",
      "execution_count": null,
      "metadata": {
        "colab": {
          "base_uri": "https://localhost:8080/"
        },
        "id": "AWmoT1QLXi20",
        "outputId": "20d503a9-6610-4ef1-95b7-9c750eb3c10b"
      },
      "outputs": [
        {
          "name": "stdout",
          "output_type": "stream",
          "text": [
            "Ultralytics YOLOv8.1.27 🚀 Python-3.10.12 torch-2.1.0+cu121 CPU (Intel Xeon 2.20GHz)\n",
            "Setup complete ✅ (2 CPUs, 12.7 GB RAM, 26.4/107.7 GB disk)\n"
          ]
        }
      ],
      "source": [
        "import ultralytics\n",
        "ultralytics.checks()"
      ]
    },
    {
      "cell_type": "markdown",
      "metadata": {
        "id": "VZyos5QHYfVB"
      },
      "source": [
        "##Sınıflandırma/Prediction"
      ]
    },
    {
      "cell_type": "code",
      "execution_count": null,
      "metadata": {
        "id": "RxVL2a7uYdzA"
      },
      "outputs": [],
      "source": [
        "#Command Line Interface (yolo'yu terminalde kullanma komutları)"
      ]
    },
    {
      "cell_type": "code",
      "execution_count": null,
      "metadata": {
        "colab": {
          "base_uri": "https://localhost:8080/"
        },
        "id": "g-mcyQEIYpmP",
        "outputId": "fd0bb4e6-1250-4cdc-ea17-3b65cbae1970"
      },
      "outputs": [
        {
          "name": "stdout",
          "output_type": "stream",
          "text": [
            "Ultralytics YOLOv8.1.27 🚀 Python-3.10.12 torch-2.1.0+cu121 CPU (Intel Xeon 2.20GHz)\n",
            "YOLOv8l-cls summary (fused): 133 layers, 37465576 parameters, 0 gradients, 99.7 GFLOPs\n",
            "\n",
            "Downloading https://upload.wikimedia.org/wikipedia/commons/4/43/Cute_dog.jpg to 'Cute_dog.jpg'...\n",
            "100% 4.94M/4.94M [00:00<00:00, 25.3MB/s]\n",
            "Downloading https://ultralytics.com/assets/Arial.ttf to '/root/.config/Ultralytics/Arial.ttf'...\n",
            "100% 755k/755k [00:00<00:00, 16.8MB/s]\n",
            "image 1/1 /content/drive/MyDrive/yolov8_udemy/1_image_classification/Cute_dog.jpg: 224x224 Blenheim_spaniel 1.00, Brittany_spaniel 0.00, Welsh_springer_spaniel 0.00, Japanese_spaniel 0.00, papillon 0.00, 367.7ms\n",
            "Speed: 92.0ms preprocess, 367.7ms inference, 0.1ms postprocess per image at shape (1, 3, 224, 224)\n",
            "Results saved to \u001b[1mruns/classify/predict2\u001b[0m\n",
            "💡 Learn more at https://docs.ultralytics.com/modes/predict\n"
          ]
        }
      ],
      "source": [
        "#resim sınıflandırma/test\n",
        "#önceden eğitilmiş bir model kullanıyoruz\n",
        "#verdiğimiz kaynağı daha önce eğitilmiş model ile sınıflandırıyor\n",
        "!yolo classify predict model='yolov8l-cls.pt' source='https://upload.wikimedia.org/wikipedia/commons/4/43/Cute_dog.jpg' save=True"
      ]
    },
    {
      "cell_type": "code",
      "execution_count": null,
      "metadata": {
        "id": "jJMyOcfUZv2Q"
      },
      "outputs": [],
      "source": [
        "#sonuçları incele\n",
        "import cv2\n",
        "from google.colab.patches import cv2_imshow"
      ]
    },
    {
      "cell_type": "code",
      "execution_count": null,
      "metadata": {
        "colab": {
          "base_uri": "https://localhost:8080/",
          "height": 694
        },
        "id": "jCLpHs5bao70",
        "outputId": "e218ca03-5764-4761-ef01-2f785762b624"
      },
      "outputs": [],
      "source": [
        "img_path = '/content/drive/MyDrive/yolov8_udemy/1_image_classification/runs/classify/predict2/Cute_dog.jpg'\n",
        "img = cv2.imread(img_path)\n",
        "cv2_imshow(img)"
      ]
    },
    {
      "cell_type": "markdown",
      "metadata": {
        "id": "3pb50Onrbc9i"
      },
      "source": [
        "#python ile prediction\n"
      ]
    },
    {
      "cell_type": "code",
      "execution_count": null,
      "metadata": {
        "id": "C6K7BjtvbPu7"
      },
      "outputs": [],
      "source": [
        "import numpy as np\n",
        "from ultralytics import YOLO"
      ]
    },
    {
      "cell_type": "code",
      "execution_count": null,
      "metadata": {
        "id": "gytQVtNNbbrG"
      },
      "outputs": [],
      "source": [
        "img_path = '/content/drive/MyDrive/yolov8_udemy/1_image_classification/runs/classify/predict2/Cute_dog.jpg'\n",
        "model_path = \"/content/drive/MyDrive/yolov8_udemy/1_image_classification/yolov8l-cls.pt\""
      ]
    },
    {
      "cell_type": "code",
      "execution_count": null,
      "metadata": {
        "colab": {
          "base_uri": "https://localhost:8080/"
        },
        "id": "D4AYhNO5bl6j",
        "outputId": "545199ca-7540-45b6-cd62-24313794526e"
      },
      "outputs": [
        {
          "name": "stdout",
          "output_type": "stream",
          "text": [
            "\n",
            "image 1/1 /content/drive/MyDrive/yolov8_udemy/1_image_classification/runs/classify/predict2/Cute_dog.jpg: 224x224 Blenheim_spaniel 1.00, Brittany_spaniel 0.00, Welsh_springer_spaniel 0.00, Japanese_spaniel 0.00, papillon 0.00, 267.0ms\n",
            "Speed: 52.8ms preprocess, 267.0ms inference, 0.1ms postprocess per image at shape (1, 3, 224, 224)\n"
          ]
        }
      ],
      "source": [
        "model = YOLO(model_path) #modeli okuma\n",
        "results = model(img_path) #resmi yükle ve sınıflandır\n"
      ]
    },
    {
      "cell_type": "code",
      "execution_count": null,
      "metadata": {
        "id": "XLOcYyC-b2in"
      },
      "outputs": [],
      "source": [
        "class_dict = results[0].names #sınıflar\n",
        "probs = results[0].probs.data.tolist() #sınıflara ait olasılıklar"
      ]
    },
    {
      "cell_type": "code",
      "execution_count": null,
      "metadata": {
        "colab": {
          "base_uri": "https://localhost:8080/"
        },
        "id": "D8nnZQtsb6L3",
        "outputId": "1b4be8c9-69db-4643-e696-85e87e409ef7"
      },
      "outputs": [
        {
          "name": "stdout",
          "output_type": "stream",
          "text": [
            "sınıflar:  {0: 'tench', 1: 'goldfish', 2: 'great_white_shark', 3: 'tiger_shark', 4: 'hammerhead', 5: 'electric_ray', 6: 'stingray', 7: 'cock', 8: 'hen', 9: 'ostrich', 10: 'brambling', 11: 'goldfinch', 12: 'house_finch', 13: 'junco', 14: 'indigo_bunting', 15: 'robin', 16: 'bulbul', 17: 'jay', 18: 'magpie', 19: 'chickadee', 20: 'water_ouzel', 21: 'kite', 22: 'bald_eagle', 23: 'vulture', 24: 'great_grey_owl', 25: 'European_fire_salamander', 26: 'common_newt', 27: 'eft', 28: 'spotted_salamander', 29: 'axolotl', 30: 'bullfrog', 31: 'tree_frog', 32: 'tailed_frog', 33: 'loggerhead', 34: 'leatherback_turtle', 35: 'mud_turtle', 36: 'terrapin', 37: 'box_turtle', 38: 'banded_gecko', 39: 'common_iguana', 40: 'American_chameleon', 41: 'whiptail', 42: 'agama', 43: 'frilled_lizard', 44: 'alligator_lizard', 45: 'Gila_monster', 46: 'green_lizard', 47: 'African_chameleon', 48: 'Komodo_dragon', 49: 'African_crocodile', 50: 'American_alligator', 51: 'triceratops', 52: 'thunder_snake', 53: 'ringneck_snake', 54: 'hognose_snake', 55: 'green_snake', 56: 'king_snake', 57: 'garter_snake', 58: 'water_snake', 59: 'vine_snake', 60: 'night_snake', 61: 'boa_constrictor', 62: 'rock_python', 63: 'Indian_cobra', 64: 'green_mamba', 65: 'sea_snake', 66: 'horned_viper', 67: 'diamondback', 68: 'sidewinder', 69: 'trilobite', 70: 'harvestman', 71: 'scorpion', 72: 'black_and_gold_garden_spider', 73: 'barn_spider', 74: 'garden_spider', 75: 'black_widow', 76: 'tarantula', 77: 'wolf_spider', 78: 'tick', 79: 'centipede', 80: 'black_grouse', 81: 'ptarmigan', 82: 'ruffed_grouse', 83: 'prairie_chicken', 84: 'peacock', 85: 'quail', 86: 'partridge', 87: 'African_grey', 88: 'macaw', 89: 'sulphur-crested_cockatoo', 90: 'lorikeet', 91: 'coucal', 92: 'bee_eater', 93: 'hornbill', 94: 'hummingbird', 95: 'jacamar', 96: 'toucan', 97: 'drake', 98: 'red-breasted_merganser', 99: 'goose', 100: 'black_swan', 101: 'tusker', 102: 'echidna', 103: 'platypus', 104: 'wallaby', 105: 'koala', 106: 'wombat', 107: 'jellyfish', 108: 'sea_anemone', 109: 'brain_coral', 110: 'flatworm', 111: 'nematode', 112: 'conch', 113: 'snail', 114: 'slug', 115: 'sea_slug', 116: 'chiton', 117: 'chambered_nautilus', 118: 'Dungeness_crab', 119: 'rock_crab', 120: 'fiddler_crab', 121: 'king_crab', 122: 'American_lobster', 123: 'spiny_lobster', 124: 'crayfish', 125: 'hermit_crab', 126: 'isopod', 127: 'white_stork', 128: 'black_stork', 129: 'spoonbill', 130: 'flamingo', 131: 'little_blue_heron', 132: 'American_egret', 133: 'bittern', 134: 'crane_(bird)', 135: 'limpkin', 136: 'European_gallinule', 137: 'American_coot', 138: 'bustard', 139: 'ruddy_turnstone', 140: 'red-backed_sandpiper', 141: 'redshank', 142: 'dowitcher', 143: 'oystercatcher', 144: 'pelican', 145: 'king_penguin', 146: 'albatross', 147: 'grey_whale', 148: 'killer_whale', 149: 'dugong', 150: 'sea_lion', 151: 'Chihuahua', 152: 'Japanese_spaniel', 153: 'Maltese_dog', 154: 'Pekinese', 155: 'Shih-Tzu', 156: 'Blenheim_spaniel', 157: 'papillon', 158: 'toy_terrier', 159: 'Rhodesian_ridgeback', 160: 'Afghan_hound', 161: 'basset', 162: 'beagle', 163: 'bloodhound', 164: 'bluetick', 165: 'black-and-tan_coonhound', 166: 'Walker_hound', 167: 'English_foxhound', 168: 'redbone', 169: 'borzoi', 170: 'Irish_wolfhound', 171: 'Italian_greyhound', 172: 'whippet', 173: 'Ibizan_hound', 174: 'Norwegian_elkhound', 175: 'otterhound', 176: 'Saluki', 177: 'Scottish_deerhound', 178: 'Weimaraner', 179: 'Staffordshire_bullterrier', 180: 'American_Staffordshire_terrier', 181: 'Bedlington_terrier', 182: 'Border_terrier', 183: 'Kerry_blue_terrier', 184: 'Irish_terrier', 185: 'Norfolk_terrier', 186: 'Norwich_terrier', 187: 'Yorkshire_terrier', 188: 'wire-haired_fox_terrier', 189: 'Lakeland_terrier', 190: 'Sealyham_terrier', 191: 'Airedale', 192: 'cairn', 193: 'Australian_terrier', 194: 'Dandie_Dinmont', 195: 'Boston_bull', 196: 'miniature_schnauzer', 197: 'giant_schnauzer', 198: 'standard_schnauzer', 199: 'Scotch_terrier', 200: 'Tibetan_terrier', 201: 'silky_terrier', 202: 'soft-coated_wheaten_terrier', 203: 'West_Highland_white_terrier', 204: 'Lhasa', 205: 'flat-coated_retriever', 206: 'curly-coated_retriever', 207: 'golden_retriever', 208: 'Labrador_retriever', 209: 'Chesapeake_Bay_retriever', 210: 'German_short-haired_pointer', 211: 'vizsla', 212: 'English_setter', 213: 'Irish_setter', 214: 'Gordon_setter', 215: 'Brittany_spaniel', 216: 'clumber', 217: 'English_springer', 218: 'Welsh_springer_spaniel', 219: 'cocker_spaniel', 220: 'Sussex_spaniel', 221: 'Irish_water_spaniel', 222: 'kuvasz', 223: 'schipperke', 224: 'groenendael', 225: 'malinois', 226: 'briard', 227: 'kelpie', 228: 'komondor', 229: 'Old_English_sheepdog', 230: 'Shetland_sheepdog', 231: 'collie', 232: 'Border_collie', 233: 'Bouvier_des_Flandres', 234: 'Rottweiler', 235: 'German_shepherd', 236: 'Doberman', 237: 'miniature_pinscher', 238: 'Greater_Swiss_Mountain_dog', 239: 'Bernese_mountain_dog', 240: 'Appenzeller', 241: 'EntleBucher', 242: 'boxer', 243: 'bull_mastiff', 244: 'Tibetan_mastiff', 245: 'French_bulldog', 246: 'Great_Dane', 247: 'Saint_Bernard', 248: 'Eskimo_dog', 249: 'malamute', 250: 'Siberian_husky', 251: 'dalmatian', 252: 'affenpinscher', 253: 'basenji', 254: 'pug', 255: 'Leonberg', 256: 'Newfoundland', 257: 'Great_Pyrenees', 258: 'Samoyed', 259: 'Pomeranian', 260: 'chow', 261: 'keeshond', 262: 'Brabancon_griffon', 263: 'Pembroke', 264: 'Cardigan', 265: 'toy_poodle', 266: 'miniature_poodle', 267: 'standard_poodle', 268: 'Mexican_hairless', 269: 'timber_wolf', 270: 'white_wolf', 271: 'red_wolf', 272: 'coyote', 273: 'dingo', 274: 'dhole', 275: 'African_hunting_dog', 276: 'hyena', 277: 'red_fox', 278: 'kit_fox', 279: 'Arctic_fox', 280: 'grey_fox', 281: 'tabby', 282: 'tiger_cat', 283: 'Persian_cat', 284: 'Siamese_cat', 285: 'Egyptian_cat', 286: 'cougar', 287: 'lynx', 288: 'leopard', 289: 'snow_leopard', 290: 'jaguar', 291: 'lion', 292: 'tiger', 293: 'cheetah', 294: 'brown_bear', 295: 'American_black_bear', 296: 'ice_bear', 297: 'sloth_bear', 298: 'mongoose', 299: 'meerkat', 300: 'tiger_beetle', 301: 'ladybug', 302: 'ground_beetle', 303: 'long-horned_beetle', 304: 'leaf_beetle', 305: 'dung_beetle', 306: 'rhinoceros_beetle', 307: 'weevil', 308: 'fly', 309: 'bee', 310: 'ant', 311: 'grasshopper', 312: 'cricket', 313: 'walking_stick', 314: 'cockroach', 315: 'mantis', 316: 'cicada', 317: 'leafhopper', 318: 'lacewing', 319: 'dragonfly', 320: 'damselfly', 321: 'admiral', 322: 'ringlet', 323: 'monarch', 324: 'cabbage_butterfly', 325: 'sulphur_butterfly', 326: 'lycaenid', 327: 'starfish', 328: 'sea_urchin', 329: 'sea_cucumber', 330: 'wood_rabbit', 331: 'hare', 332: 'Angora', 333: 'hamster', 334: 'porcupine', 335: 'fox_squirrel', 336: 'marmot', 337: 'beaver', 338: 'guinea_pig', 339: 'sorrel', 340: 'zebra', 341: 'hog', 342: 'wild_boar', 343: 'warthog', 344: 'hippopotamus', 345: 'ox', 346: 'water_buffalo', 347: 'bison', 348: 'ram', 349: 'bighorn', 350: 'ibex', 351: 'hartebeest', 352: 'impala', 353: 'gazelle', 354: 'Arabian_camel', 355: 'llama', 356: 'weasel', 357: 'mink', 358: 'polecat', 359: 'black-footed_ferret', 360: 'otter', 361: 'skunk', 362: 'badger', 363: 'armadillo', 364: 'three-toed_sloth', 365: 'orangutan', 366: 'gorilla', 367: 'chimpanzee', 368: 'gibbon', 369: 'siamang', 370: 'guenon', 371: 'patas', 372: 'baboon', 373: 'macaque', 374: 'langur', 375: 'colobus', 376: 'proboscis_monkey', 377: 'marmoset', 378: 'capuchin', 379: 'howler_monkey', 380: 'titi', 381: 'spider_monkey', 382: 'squirrel_monkey', 383: 'Madagascar_cat', 384: 'indri', 385: 'Indian_elephant', 386: 'African_elephant', 387: 'lesser_panda', 388: 'giant_panda', 389: 'barracouta', 390: 'eel', 391: 'coho', 392: 'rock_beauty', 393: 'anemone_fish', 394: 'sturgeon', 395: 'gar', 396: 'lionfish', 397: 'puffer', 398: 'abacus', 399: 'abaya', 400: 'academic_gown', 401: 'accordion', 402: 'acoustic_guitar', 403: 'aircraft_carrier', 404: 'airliner', 405: 'airship', 406: 'altar', 407: 'ambulance', 408: 'amphibian', 409: 'analog_clock', 410: 'apiary', 411: 'apron', 412: 'ashcan', 413: 'assault_rifle', 414: 'backpack', 415: 'bakery', 416: 'balance_beam', 417: 'balloon', 418: 'ballpoint', 419: 'Band_Aid', 420: 'banjo', 421: 'bannister', 422: 'barbell', 423: 'barber_chair', 424: 'barbershop', 425: 'barn', 426: 'barometer', 427: 'barrel', 428: 'barrow', 429: 'baseball', 430: 'basketball', 431: 'bassinet', 432: 'bassoon', 433: 'bathing_cap', 434: 'bath_towel', 435: 'bathtub', 436: 'beach_wagon', 437: 'beacon', 438: 'beaker', 439: 'bearskin', 440: 'beer_bottle', 441: 'beer_glass', 442: 'bell_cote', 443: 'bib', 444: 'bicycle-built-for-two', 445: 'bikini', 446: 'binder', 447: 'binoculars', 448: 'birdhouse', 449: 'boathouse', 450: 'bobsled', 451: 'bolo_tie', 452: 'bonnet', 453: 'bookcase', 454: 'bookshop', 455: 'bottlecap', 456: 'bow', 457: 'bow_tie', 458: 'brass', 459: 'brassiere', 460: 'breakwater', 461: 'breastplate', 462: 'broom', 463: 'bucket', 464: 'buckle', 465: 'bulletproof_vest', 466: 'bullet_train', 467: 'butcher_shop', 468: 'cab', 469: 'caldron', 470: 'candle', 471: 'cannon', 472: 'canoe', 473: 'can_opener', 474: 'cardigan', 475: 'car_mirror', 476: 'carousel', 477: \"carpenter's_kit\", 478: 'carton', 479: 'car_wheel', 480: 'cash_machine', 481: 'cassette', 482: 'cassette_player', 483: 'castle', 484: 'catamaran', 485: 'CD_player', 486: 'cello', 487: 'cellular_telephone', 488: 'chain', 489: 'chainlink_fence', 490: 'chain_mail', 491: 'chain_saw', 492: 'chest', 493: 'chiffonier', 494: 'chime', 495: 'china_cabinet', 496: 'Christmas_stocking', 497: 'church', 498: 'cinema', 499: 'cleaver', 500: 'cliff_dwelling', 501: 'cloak', 502: 'clog', 503: 'cocktail_shaker', 504: 'coffee_mug', 505: 'coffeepot', 506: 'coil', 507: 'combination_lock', 508: 'computer_keyboard', 509: 'confectionery', 510: 'container_ship', 511: 'convertible', 512: 'corkscrew', 513: 'cornet', 514: 'cowboy_boot', 515: 'cowboy_hat', 516: 'cradle', 517: 'crane_(machine)', 518: 'crash_helmet', 519: 'crate', 520: 'crib', 521: 'Crock_Pot', 522: 'croquet_ball', 523: 'crutch', 524: 'cuirass', 525: 'dam', 526: 'desk', 527: 'desktop_computer', 528: 'dial_telephone', 529: 'diaper', 530: 'digital_clock', 531: 'digital_watch', 532: 'dining_table', 533: 'dishrag', 534: 'dishwasher', 535: 'disk_brake', 536: 'dock', 537: 'dogsled', 538: 'dome', 539: 'doormat', 540: 'drilling_platform', 541: 'drum', 542: 'drumstick', 543: 'dumbbell', 544: 'Dutch_oven', 545: 'electric_fan', 546: 'electric_guitar', 547: 'electric_locomotive', 548: 'entertainment_center', 549: 'envelope', 550: 'espresso_maker', 551: 'face_powder', 552: 'feather_boa', 553: 'file', 554: 'fireboat', 555: 'fire_engine', 556: 'fire_screen', 557: 'flagpole', 558: 'flute', 559: 'folding_chair', 560: 'football_helmet', 561: 'forklift', 562: 'fountain', 563: 'fountain_pen', 564: 'four-poster', 565: 'freight_car', 566: 'French_horn', 567: 'frying_pan', 568: 'fur_coat', 569: 'garbage_truck', 570: 'gasmask', 571: 'gas_pump', 572: 'goblet', 573: 'go-kart', 574: 'golf_ball', 575: 'golfcart', 576: 'gondola', 577: 'gong', 578: 'gown', 579: 'grand_piano', 580: 'greenhouse', 581: 'grille', 582: 'grocery_store', 583: 'guillotine', 584: 'hair_slide', 585: 'hair_spray', 586: 'half_track', 587: 'hammer', 588: 'hamper', 589: 'hand_blower', 590: 'hand-held_computer', 591: 'handkerchief', 592: 'hard_disc', 593: 'harmonica', 594: 'harp', 595: 'harvester', 596: 'hatchet', 597: 'holster', 598: 'home_theater', 599: 'honeycomb', 600: 'hook', 601: 'hoopskirt', 602: 'horizontal_bar', 603: 'horse_cart', 604: 'hourglass', 605: 'iPod', 606: 'iron', 607: \"jack-o'-lantern\", 608: 'jean', 609: 'jeep', 610: 'jersey', 611: 'jigsaw_puzzle', 612: 'jinrikisha', 613: 'joystick', 614: 'kimono', 615: 'knee_pad', 616: 'knot', 617: 'lab_coat', 618: 'ladle', 619: 'lampshade', 620: 'laptop', 621: 'lawn_mower', 622: 'lens_cap', 623: 'letter_opener', 624: 'library', 625: 'lifeboat', 626: 'lighter', 627: 'limousine', 628: 'liner', 629: 'lipstick', 630: 'Loafer', 631: 'lotion', 632: 'loudspeaker', 633: 'loupe', 634: 'lumbermill', 635: 'magnetic_compass', 636: 'mailbag', 637: 'mailbox', 638: 'maillot_(tights)', 639: 'maillot_(tank_suit)', 640: 'manhole_cover', 641: 'maraca', 642: 'marimba', 643: 'mask', 644: 'matchstick', 645: 'maypole', 646: 'maze', 647: 'measuring_cup', 648: 'medicine_chest', 649: 'megalith', 650: 'microphone', 651: 'microwave', 652: 'military_uniform', 653: 'milk_can', 654: 'minibus', 655: 'miniskirt', 656: 'minivan', 657: 'missile', 658: 'mitten', 659: 'mixing_bowl', 660: 'mobile_home', 661: 'Model_T', 662: 'modem', 663: 'monastery', 664: 'monitor', 665: 'moped', 666: 'mortar', 667: 'mortarboard', 668: 'mosque', 669: 'mosquito_net', 670: 'motor_scooter', 671: 'mountain_bike', 672: 'mountain_tent', 673: 'mouse', 674: 'mousetrap', 675: 'moving_van', 676: 'muzzle', 677: 'nail', 678: 'neck_brace', 679: 'necklace', 680: 'nipple', 681: 'notebook', 682: 'obelisk', 683: 'oboe', 684: 'ocarina', 685: 'odometer', 686: 'oil_filter', 687: 'organ', 688: 'oscilloscope', 689: 'overskirt', 690: 'oxcart', 691: 'oxygen_mask', 692: 'packet', 693: 'paddle', 694: 'paddlewheel', 695: 'padlock', 696: 'paintbrush', 697: 'pajama', 698: 'palace', 699: 'panpipe', 700: 'paper_towel', 701: 'parachute', 702: 'parallel_bars', 703: 'park_bench', 704: 'parking_meter', 705: 'passenger_car', 706: 'patio', 707: 'pay-phone', 708: 'pedestal', 709: 'pencil_box', 710: 'pencil_sharpener', 711: 'perfume', 712: 'Petri_dish', 713: 'photocopier', 714: 'pick', 715: 'pickelhaube', 716: 'picket_fence', 717: 'pickup', 718: 'pier', 719: 'piggy_bank', 720: 'pill_bottle', 721: 'pillow', 722: 'ping-pong_ball', 723: 'pinwheel', 724: 'pirate', 725: 'pitcher', 726: 'plane', 727: 'planetarium', 728: 'plastic_bag', 729: 'plate_rack', 730: 'plow', 731: 'plunger', 732: 'Polaroid_camera', 733: 'pole', 734: 'police_van', 735: 'poncho', 736: 'pool_table', 737: 'pop_bottle', 738: 'pot', 739: \"potter's_wheel\", 740: 'power_drill', 741: 'prayer_rug', 742: 'printer', 743: 'prison', 744: 'projectile', 745: 'projector', 746: 'puck', 747: 'punching_bag', 748: 'purse', 749: 'quill', 750: 'quilt', 751: 'racer', 752: 'racket', 753: 'radiator', 754: 'radio', 755: 'radio_telescope', 756: 'rain_barrel', 757: 'recreational_vehicle', 758: 'reel', 759: 'reflex_camera', 760: 'refrigerator', 761: 'remote_control', 762: 'restaurant', 763: 'revolver', 764: 'rifle', 765: 'rocking_chair', 766: 'rotisserie', 767: 'rubber_eraser', 768: 'rugby_ball', 769: 'rule', 770: 'running_shoe', 771: 'safe', 772: 'safety_pin', 773: 'saltshaker', 774: 'sandal', 775: 'sarong', 776: 'sax', 777: 'scabbard', 778: 'scale', 779: 'school_bus', 780: 'schooner', 781: 'scoreboard', 782: 'screen', 783: 'screw', 784: 'screwdriver', 785: 'seat_belt', 786: 'sewing_machine', 787: 'shield', 788: 'shoe_shop', 789: 'shoji', 790: 'shopping_basket', 791: 'shopping_cart', 792: 'shovel', 793: 'shower_cap', 794: 'shower_curtain', 795: 'ski', 796: 'ski_mask', 797: 'sleeping_bag', 798: 'slide_rule', 799: 'sliding_door', 800: 'slot', 801: 'snorkel', 802: 'snowmobile', 803: 'snowplow', 804: 'soap_dispenser', 805: 'soccer_ball', 806: 'sock', 807: 'solar_dish', 808: 'sombrero', 809: 'soup_bowl', 810: 'space_bar', 811: 'space_heater', 812: 'space_shuttle', 813: 'spatula', 814: 'speedboat', 815: 'spider_web', 816: 'spindle', 817: 'sports_car', 818: 'spotlight', 819: 'stage', 820: 'steam_locomotive', 821: 'steel_arch_bridge', 822: 'steel_drum', 823: 'stethoscope', 824: 'stole', 825: 'stone_wall', 826: 'stopwatch', 827: 'stove', 828: 'strainer', 829: 'streetcar', 830: 'stretcher', 831: 'studio_couch', 832: 'stupa', 833: 'submarine', 834: 'suit', 835: 'sundial', 836: 'sunglass', 837: 'sunglasses', 838: 'sunscreen', 839: 'suspension_bridge', 840: 'swab', 841: 'sweatshirt', 842: 'swimming_trunks', 843: 'swing', 844: 'switch', 845: 'syringe', 846: 'table_lamp', 847: 'tank', 848: 'tape_player', 849: 'teapot', 850: 'teddy', 851: 'television', 852: 'tennis_ball', 853: 'thatch', 854: 'theater_curtain', 855: 'thimble', 856: 'thresher', 857: 'throne', 858: 'tile_roof', 859: 'toaster', 860: 'tobacco_shop', 861: 'toilet_seat', 862: 'torch', 863: 'totem_pole', 864: 'tow_truck', 865: 'toyshop', 866: 'tractor', 867: 'trailer_truck', 868: 'tray', 869: 'trench_coat', 870: 'tricycle', 871: 'trimaran', 872: 'tripod', 873: 'triumphal_arch', 874: 'trolleybus', 875: 'trombone', 876: 'tub', 877: 'turnstile', 878: 'typewriter_keyboard', 879: 'umbrella', 880: 'unicycle', 881: 'upright', 882: 'vacuum', 883: 'vase', 884: 'vault', 885: 'velvet', 886: 'vending_machine', 887: 'vestment', 888: 'viaduct', 889: 'violin', 890: 'volleyball', 891: 'waffle_iron', 892: 'wall_clock', 893: 'wallet', 894: 'wardrobe', 895: 'warplane', 896: 'washbasin', 897: 'washer', 898: 'water_bottle', 899: 'water_jug', 900: 'water_tower', 901: 'whiskey_jug', 902: 'whistle', 903: 'wig', 904: 'window_screen', 905: 'window_shade', 906: 'Windsor_tie', 907: 'wine_bottle', 908: 'wing', 909: 'wok', 910: 'wooden_spoon', 911: 'wool', 912: 'worm_fence', 913: 'wreck', 914: 'yawl', 915: 'yurt', 916: 'web_site', 917: 'comic_book', 918: 'crossword_puzzle', 919: 'street_sign', 920: 'traffic_light', 921: 'book_jacket', 922: 'menu', 923: 'plate', 924: 'guacamole', 925: 'consomme', 926: 'hot_pot', 927: 'trifle', 928: 'ice_cream', 929: 'ice_lolly', 930: 'French_loaf', 931: 'bagel', 932: 'pretzel', 933: 'cheeseburger', 934: 'hotdog', 935: 'mashed_potato', 936: 'head_cabbage', 937: 'broccoli', 938: 'cauliflower', 939: 'zucchini', 940: 'spaghetti_squash', 941: 'acorn_squash', 942: 'butternut_squash', 943: 'cucumber', 944: 'artichoke', 945: 'bell_pepper', 946: 'cardoon', 947: 'mushroom', 948: 'Granny_Smith', 949: 'strawberry', 950: 'orange', 951: 'lemon', 952: 'fig', 953: 'pineapple', 954: 'banana', 955: 'jackfruit', 956: 'custard_apple', 957: 'pomegranate', 958: 'hay', 959: 'carbonara', 960: 'chocolate_sauce', 961: 'dough', 962: 'meat_loaf', 963: 'pizza', 964: 'potpie', 965: 'burrito', 966: 'red_wine', 967: 'espresso', 968: 'cup', 969: 'eggnog', 970: 'alp', 971: 'bubble', 972: 'cliff', 973: 'coral_reef', 974: 'geyser', 975: 'lakeside', 976: 'promontory', 977: 'sandbar', 978: 'seashore', 979: 'valley', 980: 'volcano', 981: 'ballplayer', 982: 'groom', 983: 'scuba_diver', 984: 'rapeseed', 985: 'daisy', 986: \"yellow_lady's_slipper\", 987: 'corn', 988: 'acorn', 989: 'hip', 990: 'buckeye', 991: 'coral_fungus', 992: 'agaric', 993: 'gyromitra', 994: 'stinkhorn', 995: 'earthstar', 996: 'hen-of-the-woods', 997: 'bolete', 998: 'ear', 999: 'toilet_tissue'}\n",
            "olasılıklar:  [1.4058001724520652e-12, 2.279353095158143e-10, 2.719776660831119e-11, 6.918557523757918e-13, 5.341897497262993e-12, 5.299699915028988e-12, 5.231655820364667e-12, 1.069750815707593e-10, 4.38731030671935e-11, 1.0238280709340408e-11, 1.3460012184690617e-12, 5.856919983726616e-12, 5.761477666482717e-12, 3.82967876161322e-12, 4.13639478571981e-12, 4.780424320283139e-12, 4.179674661930477e-11, 1.8281706010148113e-11, 1.7795977365342441e-12, 1.7832045562382604e-10, 9.84355999489317e-12, 2.010013856745818e-11, 1.2575369565115402e-11, 8.866025968945479e-11, 3.6103195086290008e-12, 6.068598401576253e-11, 1.0604743645725723e-11, 2.833632981036338e-11, 5.496539421528945e-12, 6.714559463993908e-11, 3.794126037653944e-12, 3.317886243525692e-11, 1.0737410960359739e-10, 5.3574167671599504e-12, 4.58411130235814e-12, 8.48388286706081e-12, 2.312968913620317e-11, 5.801866764798547e-10, 5.6314519020217446e-11, 1.9209365001437995e-12, 2.0216097892933327e-11, 1.9019903707562236e-11, 5.897941163235387e-11, 4.419635230706875e-12, 2.958951443240987e-12, 1.2456290339468712e-12, 3.881116782122884e-12, 1.7388675135204812e-12, 2.8475776424341515e-12, 2.983882672197291e-12, 3.5047054234432773e-12, 7.951134542438787e-12, 1.5236673034380033e-11, 9.426105729293255e-11, 9.643898180033972e-11, 4.625066649110998e-11, 1.1063450849890799e-10, 1.5433283123700292e-11, 5.2244168192994156e-12, 1.5451670498656256e-10, 4.354106311610373e-11, 5.766050831246261e-12, 3.4479571975332135e-11, 3.5814740062534156e-11, 1.83848162388367e-12, 3.1005523669358492e-12, 3.6563637534348103e-11, 5.4989298704788414e-12, 2.2670641405819758e-11, 2.1237174345489773e-12, 3.779045652796409e-12, 1.3644317446714904e-11, 8.22631286007125e-12, 6.705686787095155e-12, 2.484925112899994e-11, 7.690230830609268e-13, 1.4343564530561181e-11, 3.577759616346654e-11, 5.8532345637019034e-12, 4.500313316446736e-11, 4.255415898130055e-12, 9.543113521637281e-11, 1.2426071283044848e-10, 2.3289231654288756e-11, 1.4038394578752555e-11, 1.2219400838398009e-11, 2.8105162641622883e-10, 5.3298501029308554e-11, 2.7633037524843473e-10, 7.890055796211382e-12, 7.28257905369123e-12, 5.363285770360049e-12, 1.8977036955747373e-11, 2.7213696573991086e-11, 1.3470112178448623e-11, 2.920794031982532e-12, 1.1167285846047648e-11, 1.426441777196974e-11, 2.446068694816894e-11, 3.906851838569869e-12, 1.1694579332699462e-11, 9.409592896525432e-12, 5.0753589699026325e-12, 5.748236630610803e-13, 1.721591294003011e-12, 7.763387914298814e-13, 1.080737604443327e-13, 6.33518411341516e-12, 1.228204690728596e-11, 5.22074137393469e-12, 1.8350728922533754e-12, 1.7939701807412334e-11, 2.071143256898722e-10, 2.4202148965479786e-11, 3.445525115219894e-11, 1.6058271032348692e-11, 2.4934509752078116e-12, 1.2885409406138137e-10, 1.2594837499324552e-11, 2.346092591032356e-11, 4.086130305641644e-12, 1.9695431049959744e-11, 1.5292631744268093e-11, 1.1188883153323559e-11, 6.626201670689724e-11, 1.1066399532855264e-11, 4.965160227410337e-12, 1.821208982233369e-12, 1.423511915982223e-11, 3.486731389723552e-11, 2.926434650163401e-10, 3.582621699305122e-11, 8.30341836954851e-11, 2.65965678300506e-12, 1.8277009072864558e-10, 2.5028995803005882e-12, 3.5940360930408755e-12, 5.816231177235842e-12, 2.666985556010193e-13, 2.175429107686977e-11, 2.202264932915643e-11, 5.8922714797626785e-12, 2.719967263573042e-12, 4.466984507983662e-12, 1.652377019933926e-11, 4.563619013936426e-12, 1.7865910140191232e-11, 5.338726964849994e-13, 4.7210469041047975e-12, 2.10959938753974e-12, 3.123559353876426e-12, 5.004124545848754e-07, 4.0508602978661656e-05, 3.2871003696754997e-09, 1.462381788996936e-07, 4.0229139131042757e-07, 0.9991785883903503, 3.155162266921252e-05, 2.449223579503723e-08, 3.9638844290257325e-11, 6.896059244476671e-12, 1.0569784159031315e-08, 6.0218817452550866e-06, 1.6334791852479214e-10, 1.063134469347915e-09, 1.1368616985307778e-11, 6.7773049394759255e-09, 3.174849183551487e-08, 3.349883911929474e-11, 4.6432593880929574e-10, 7.143591274072492e-11, 7.256348993900374e-11, 1.377585823192362e-10, 9.408255285947575e-10, 1.1638177921380333e-10, 7.849670358162086e-10, 1.2817883421334386e-09, 1.55913077587444e-11, 4.9575354238440283e-11, 1.1608453087674775e-09, 4.5915277135932797e-10, 2.2892290493792267e-11, 1.2568213136887607e-09, 4.51554071911886e-11, 6.047156664301667e-10, 4.332397995909787e-09, 1.0055878352233094e-10, 3.522028535485333e-08, 9.311607485074092e-09, 1.4868948294832762e-09, 3.397534753535325e-10, 1.0065934197278636e-10, 8.415682040130434e-11, 2.880780058944765e-09, 1.0592564603228993e-09, 9.23120069273864e-09, 3.9279188235319396e-10, 1.7958530496020586e-11, 2.6275089742844315e-11, 5.376060013828621e-11, 1.3036515866815535e-08, 3.6540388492767306e-09, 1.8364718079588727e-10, 3.6892222610163117e-09, 1.5920282976367162e-06, 1.0241884007555768e-09, 1.2126449844274134e-09, 8.137114093642595e-08, 2.6649202289341645e-10, 1.5833150762700754e-11, 2.0139175049838087e-10, 1.026028373374288e-09, 4.1848425098578446e-06, 1.9001667794782406e-07, 7.224121301163677e-10, 0.0005869625601917505, 2.556319884661207e-07, 1.2705902463494567e-07, 0.00013964816753286868, 4.559039098239737e-06, 8.257034096459392e-07, 5.7474313502892116e-11, 2.223348838370498e-09, 8.504365267558711e-11, 1.938586617622473e-11, 5.012260138187452e-12, 2.3913443447654004e-10, 5.9408073078970336e-12, 1.641414261455143e-11, 1.1779024977620622e-10, 4.2595558191749205e-09, 1.1802741894939572e-08, 2.8832992882144026e-08, 4.9214615022163954e-11, 5.222097754220556e-11, 7.344822666732753e-12, 1.0588735617489409e-11, 2.2168381713649765e-11, 2.447695379714787e-09, 3.546564153467102e-09, 4.009129472848372e-09, 4.3926129400517766e-10, 2.7969145222073166e-08, 1.985842393303905e-11, 5.551964790684316e-11, 9.600663597453263e-10, 1.1335272130652552e-11, 2.4530693281121785e-06, 6.509739969295936e-10, 3.8299294291554986e-11, 6.910734207110636e-10, 4.339435921707491e-09, 1.0238778713755892e-09, 5.274906622609876e-10, 1.7263041690585013e-11, 1.2373779778585003e-10, 1.1218213025188106e-09, 2.012958466579562e-09, 5.763095903277282e-11, 8.619537084086915e-09, 2.626783790482534e-10, 2.817665267773606e-10, 9.708331916158386e-10, 1.6231819444101347e-08, 1.7340563829293387e-07, 6.391903184521652e-08, 5.3696737722930266e-08, 1.929120196919598e-09, 4.5842121765282684e-10, 1.3295214755515428e-11, 7.130614241429578e-12, 4.6320469161698075e-12, 1.052041006394111e-11, 1.607090294175606e-10, 7.424571374370359e-12, 3.691074789563542e-12, 2.8652787607830188e-12, 8.11905230546639e-12, 2.578063630631622e-12, 1.461478160713625e-11, 1.7872820194317351e-12, 1.0156712276776503e-10, 4.423511001938607e-10, 3.428676786931817e-11, 1.0564008695590488e-10, 9.488192870277246e-11, 4.5433396628213885e-12, 1.5428007179088543e-12, 4.419517269510509e-12, 9.381703313521284e-13, 3.2052468318388705e-12, 6.317714407177988e-11, 2.5699544922708206e-11, 1.0194612515279644e-11, 5.701505240152116e-12, 2.352183931571966e-13, 3.272018344203237e-13, 5.426783154793835e-13, 7.06863560739901e-12, 6.783466149906658e-11, 2.2003451578128663e-12, 2.3165329376961807e-10, 1.4275685668307947e-11, 3.423212017669708e-12, 1.039300503297147e-11, 1.2580959711516737e-11, 1.4331040694426367e-11, 5.337772758517989e-12, 6.771560395746334e-11, 4.8360208199094146e-11, 3.4037991175628335e-11, 4.212639351935943e-12, 1.5362357219661504e-11, 7.910790078557994e-12, 5.600452740450734e-11, 3.658789417271269e-12, 5.4325776516206403e-11, 2.7839861492517937e-12, 5.210198938954136e-11, 3.253124714053257e-10, 2.786498896206746e-12, 3.065302525695479e-11, 2.5630960895361987e-11, 1.1617279187248197e-11, 2.4266814252493774e-11, 2.199665363050718e-12, 9.373427381498267e-12, 1.9917371571476217e-11, 4.415608070157395e-12, 1.1447973645439813e-11, 3.9089557979377076e-11, 1.2164196733221999e-11, 4.6776041373597366e-11, 3.036654608323808e-11, 2.406914077768274e-12, 7.900144947947663e-12, 1.1373621228855102e-12, 6.4316967550437365e-12, 4.3100845115162656e-10, 3.220380073720719e-10, 5.1046003361754355e-12, 1.0096323733652102e-12, 2.990999808938355e-12, 1.401241210736981e-12, 2.0359271560299597e-11, 3.966190917359391e-11, 9.401228710445575e-13, 6.66706341284802e-14, 4.958239764943362e-13, 4.69056564422754e-12, 2.3957601852885035e-13, 2.420969241051507e-13, 3.0283569163631896e-13, 6.691492412252975e-12, 1.0817776795873923e-12, 7.706503837856538e-12, 1.341898675510933e-10, 2.7979224839769223e-12, 9.130485950636924e-11, 1.0939939232290641e-10, 5.598527284128574e-12, 6.659892776150755e-11, 1.538150336266586e-11, 2.777388128510916e-12, 2.8648775018957906e-10, 4.452392621256962e-10, 7.736606494335163e-12, 5.582514311930353e-11, 9.600585604285783e-11, 1.590637170589826e-11, 1.6660960805436886e-11, 2.3407345506321064e-10, 9.758870144274678e-13, 1.5415953236175284e-11, 5.837673400233001e-11, 3.89382033560981e-11, 2.4941703216652122e-11, 5.724134943818626e-09, 3.0087371396397833e-12, 5.937216430301762e-12, 5.99735150430547e-10, 2.243590209449753e-11, 8.162256426302861e-10, 6.239432581711668e-11, 3.207762180879037e-11, 4.111122900440911e-12, 2.368025914245564e-12, 4.4144270461288215e-09, 4.021332919434961e-11, 8.346552073622282e-13, 2.0411256018704194e-11, 6.955705456057615e-11, 7.690465560379611e-13, 7.067762347601203e-11, 7.40090367462587e-12, 1.2215953075489505e-11, 2.1186247201043784e-11, 2.689165947214467e-12, 4.4282127964478946e-10, 2.4901868761473267e-11, 1.0013885554105428e-10, 2.7932972601618644e-10, 5.014627046939779e-10, 1.1513908750038215e-11, 1.2834408015527377e-11, 1.558756075603629e-11, 1.450218330839581e-11, 3.521237121328902e-11, 1.4342088280883125e-11, 1.234092938950937e-09, 9.968625924727803e-11, 7.038798016667513e-11, 2.1298164620819904e-10, 3.5731428232876894e-11, 1.2155360051835373e-11, 1.2876194555033749e-10, 7.89689494351542e-11, 6.092272242241847e-10, 5.140273970360987e-11, 2.5799945513327316e-10, 1.278464695220194e-10, 8.103879373111411e-11, 2.0518882426490137e-10, 2.9940036561093564e-11, 6.828590470853158e-11, 1.2957960225656873e-11, 1.5832886390843015e-10, 3.7154682108742065e-10, 2.186304692841645e-09, 9.145688650846751e-10, 3.6144776061064476e-10, 2.498112307292022e-11, 1.0501210317981347e-10, 3.131685882840074e-11, 1.7975684274418313e-09, 1.718784559123776e-10, 3.6500576866549395e-11, 1.338623933921923e-10, 4.933914735105738e-11, 3.7977824010604344e-12, 9.234518705270034e-11, 1.8054362171948668e-10, 2.730650601467932e-11, 3.3250766723336156e-11, 2.489938810690262e-12, 4.663771591140176e-10, 8.839869808374701e-11, 8.599115863816564e-11, 2.320127978627795e-10, 1.8970675030871575e-10, 9.362509031940469e-12, 1.28818882644266e-11, 2.8546405239637807e-09, 1.0146062462412786e-10, 3.5785807650512425e-10, 6.297518062581275e-10, 1.807812927134833e-11, 1.855701481368044e-09, 4.1226386193748965e-10, 4.1438927289583205e-10, 2.422505598898006e-11, 1.9207883894534206e-10, 4.852154789070084e-10, 2.3918579117321315e-08, 5.915463119343656e-10, 1.8013925854459822e-12, 1.497744934802689e-13, 9.38965571961603e-12, 2.4565276895982535e-11, 2.5589978053242035e-11, 9.744521162202702e-11, 1.0419841205144831e-11, 2.3185519476554006e-11, 6.334921476280897e-11, 2.1910459557794582e-10, 1.5801661368275433e-10, 2.3965074716358892e-11, 2.8646682248556488e-11, 9.7117161534932e-11, 1.0268794148338145e-10, 3.7890655890659986e-11, 7.943468799398445e-11, 6.156131715506774e-10, 5.804996067171331e-11, 5.144557523040216e-12, 8.702359943768556e-10, 6.239467970070578e-11, 4.4822662248478196e-10, 8.455137145979563e-10, 6.51126763617782e-10, 1.114842940186378e-11, 2.4235221468549284e-11, 1.9711299259483894e-10, 1.2045943409422222e-10, 1.0000385936015377e-11, 3.038502435770418e-11, 1.1363419233356709e-10, 1.6589811469014393e-10, 1.6124881985213335e-10, 1.7081433489885e-10, 3.1489045312221853e-12, 2.458849235331684e-10, 6.217692333221336e-11, 1.222390660915451e-10, 2.9879820839795457e-09, 3.6627645361164696e-11, 1.6571445327073775e-09, 3.051675231957596e-11, 2.7738653041176065e-10, 3.9085698566587723e-10, 1.7209225364189784e-11, 9.216548531310043e-12, 3.949417182180781e-11, 8.759074021646995e-11, 8.891953146017428e-11, 9.056844163524147e-10, 3.357331079811843e-10, 7.160533971317662e-11, 1.0802693461986479e-10, 4.692160548991353e-11, 1.7458515189083812e-10, 2.934847087576742e-10, 8.351382518867467e-08, 6.619560455334295e-10, 1.1703951176278427e-11, 2.1204803538066308e-11, 4.203868156360535e-11, 1.4836758210901024e-10, 2.3467550819278316e-11, 2.1953545925601503e-10, 3.291930061877224e-10, 1.5534568076347455e-09, 6.626975634915766e-10, 1.0655964999273237e-10, 5.078053255669346e-11, 9.225412100910546e-12, 1.3145410107662236e-11, 4.306727283825973e-12, 5.6573978141072345e-11, 2.646060970334929e-08, 1.72010860416405e-11, 4.7925143020766114e-11, 1.253239595433442e-10, 2.846805458034396e-09, 1.764490463462831e-11, 5.44238890065607e-11, 1.056623122330791e-09, 2.3666938634564483e-12, 3.106846724332257e-11, 4.729367591993494e-11, 4.275015758059553e-11, 6.12592060411643e-11, 8.667407347395795e-10, 1.0248909360077718e-11, 2.5323994637393987e-11, 7.517526878775271e-11, 3.134225518008904e-11, 1.1039967551251806e-10, 7.460290718519502e-11, 5.354388044054303e-10, 4.36422942229342e-09, 8.028691600436844e-11, 1.9490714597836245e-11, 2.2565551857645083e-11, 7.534447024615254e-12, 1.8421726644124448e-10, 2.5376711842994837e-10, 4.161111177847232e-10, 2.1131130178986268e-10, 6.813485886603132e-11, 1.4037492002128005e-10, 3.2742818872888435e-11, 2.434035639709009e-09, 4.010836801571216e-12, 1.2045444641728409e-09, 8.884193936076201e-10, 1.5931389887868797e-11, 3.3566507212645647e-11, 1.2489133338622338e-10, 3.085105781952535e-10, 3.4273900384462763e-10, 1.0647472487024245e-10, 2.5376567514001636e-10, 9.371590309337208e-11, 7.206035074203143e-11, 1.109208072613832e-10, 4.198809702704587e-12, 1.4110453083748808e-10, 1.2257276305049913e-09, 9.6601593391199e-10, 4.073804227983091e-12, 4.2398651256547737e-10, 4.799027494839514e-11, 1.1563146967707993e-10, 2.2041950209494843e-10, 1.2138031031672103e-11, 5.175367912002571e-10, 9.832546235544193e-12, 2.1963346419351382e-10, 1.1232295649143964e-10, 3.21029001992823e-11, 1.7793372678043262e-11, 2.096227705306042e-11, 6.2049883460535415e-12, 2.2837950280907293e-11, 2.4031915346611754e-10, 6.331059010378226e-10, 1.3210088578574641e-10, 5.451191165128932e-10, 1.9989340044324067e-11, 5.256586832480536e-10, 3.312228824547958e-10, 1.794949085198727e-11, 3.5278589077814004e-11, 1.9291043762414972e-10, 7.077795381033036e-12, 1.508717040188401e-10, 5.109105916112355e-10, 5.027095406617832e-10, 2.456223072155872e-11, 7.314950034587042e-11, 2.001744103807823e-09, 2.9198221618287334e-10, 2.9000286547176124e-11, 2.295364454063531e-10, 3.481063354238145e-11, 2.533560305995053e-10, 1.5472602366006782e-11, 1.94335849496019e-11, 4.867196229385584e-11, 1.3663413456210804e-10, 5.030519889537288e-10, 5.393914204177008e-10, 4.109911855287862e-10, 8.998052303255122e-12, 5.540219758654041e-12, 2.2551783357416255e-11, 2.0245163878662709e-10, 2.505750273940066e-09, 8.568357690030837e-10, 1.8411917823701884e-11, 1.7488518411212794e-09, 2.047340769140149e-11, 1.7485207726153362e-10, 5.639656519562664e-10, 7.789382333589501e-11, 7.314265859648117e-11, 1.8745048568913347e-10, 1.6419192394589999e-10, 5.726015148144192e-12, 1.370805136069464e-10, 5.958459281529827e-10, 5.022761026540756e-11, 6.942212776861467e-11, 4.579552015382404e-11, 6.424837328822264e-10, 4.1212606244345196e-11, 1.0955261003919858e-11, 2.2059824800191308e-10, 4.783585194623186e-10, 1.8435822313200845e-10, 6.699435711049473e-12, 4.4604309828999433e-11, 1.4541466641926348e-10, 2.556496403460784e-10, 2.2684180922549757e-11, 7.459000084253375e-10, 6.28102347910442e-10, 1.0057120934658936e-11, 5.755743538032876e-12, 6.170776389868848e-11, 6.7460581391898256e-12, 8.865349426789848e-11, 1.1518418163714017e-10, 2.1501418701053154e-11, 1.5124790309073433e-11, 3.775254775462145e-09, 6.83498813103256e-11, 2.964773426761269e-10, 1.0567052094456741e-10, 1.9846451593252823e-08, 3.418187066728251e-09, 2.2524601541590306e-12, 5.136784747561407e-11, 8.541148691088019e-12, 1.261168860317019e-11, 6.990455089783687e-12, 2.8395627862942696e-11, 2.450280603416566e-11, 9.657570750054578e-12, 9.30347986149993e-12, 2.3642723195882454e-11, 1.99784772059175e-11, 9.020485469690698e-10, 1.3363910672525847e-11, 2.2751224515449309e-10, 4.226230476689352e-09, 5.478479891962706e-10, 4.5712093832417366e-11, 1.5655862717345315e-10, 5.486164855739162e-10, 5.6899165934432006e-11, 2.1088933377377828e-10, 7.147352154568409e-11, 2.958067124581021e-11, 2.9916114724359844e-11, 4.604086001336327e-10, 4.055198017660633e-12, 9.688219670955789e-11, 9.236028608583524e-12, 2.560408829399563e-11, 8.422442604461011e-11, 5.280564319143366e-10, 3.285962474341986e-11, 2.665631881892949e-10, 2.7742539168706948e-12, 4.1827233343560977e-10, 1.643538256879129e-11, 1.7769709315107463e-10, 6.569759319896562e-11, 2.8015914921297735e-08, 6.487020920431519e-10, 1.626756923611694e-10, 2.772082841051571e-10, 7.527365883386317e-12, 4.41463324230007e-11, 2.1208837637509692e-12, 1.2818798973690537e-11, 2.6362840729876602e-11, 1.674191341116682e-10, 1.7025899787248555e-11, 2.176053781610676e-09, 3.0380056803558375e-10, 6.816332220882515e-11, 1.586812972687035e-11, 1.551276884725894e-10, 2.406884413996835e-10, 4.3593020859766796e-10, 1.3272748178305704e-10, 2.0409904322171712e-10, 4.317792304253665e-11, 4.699397468388433e-11, 7.722000816556829e-11, 5.241946807177378e-11, 3.167429166173186e-11, 1.373650082570066e-10, 1.3061092485333603e-10, 4.3994023701809937e-11, 1.4702433714930407e-11, 1.0772160247141116e-10, 8.287235897519452e-10, 1.0024735382085925e-11, 1.2089707013274165e-09, 4.255483118664749e-11, 4.857599877894359e-10, 3.127525322055291e-11, 2.0732894567832005e-10, 1.9340597179340335e-10, 9.181952420611594e-11, 2.1743339767565928e-11, 9.282109109109982e-11, 3.45860473593973e-09, 4.467659922569034e-11, 2.7863940321726233e-11, 1.5841397638105548e-11, 1.00443819928131e-09, 1.452499318738143e-11, 9.858384941718867e-12, 2.09062389622261e-09, 1.266511201469811e-10, 1.4312799556659428e-10, 9.426465163997477e-11, 1.6644262357257134e-10, 3.7358324767033935e-11, 5.972702193934865e-11, 1.1839414171266327e-10, 5.4430432383512084e-11, 1.088329838576374e-12, 2.623814499003174e-10, 4.968897515666981e-10, 2.9022586417459806e-11, 1.7487676584604372e-10, 3.303068651927532e-10, 1.7429325344098245e-11, 9.840191994570091e-10, 5.173226291788069e-10, 1.4786612212436268e-10, 6.527784497840916e-13, 6.300599365155479e-12, 4.218520810450599e-10, 4.8590985401997244e-11, 5.934230190574041e-11, 1.8292632686378596e-10, 3.500958897784123e-11, 1.8448300179163546e-11, 8.433534426366407e-11, 1.429490276150247e-10, 2.3787627423388358e-09, 1.108498969698557e-11, 2.4821376065631284e-09, 3.0346565538241776e-11, 5.350105775070446e-12, 8.636254688818013e-13, 3.082979184443335e-12, 6.215139514154089e-12, 1.0864886945682883e-07, 1.3241063800961683e-10, 2.8089603559822152e-11, 1.3418090250016945e-10, 4.7413006853958e-10, 3.4983627106299764e-11, 3.4572855689418702e-09, 2.946096144818e-11, 4.904053274579212e-10, 2.6474199568693457e-11, 7.003310431574761e-11, 3.172001272755409e-10, 7.53200366659934e-12, 5.268833147553664e-10, 1.6556628290587128e-09, 3.919861397277957e-12, 1.0457252251627747e-11, 2.587010120014277e-11, 9.215058577316526e-11, 1.0835297936662158e-10, 2.133813403748519e-10, 3.600319375962613e-09, 1.5867865355012611e-10, 1.9248262705939823e-10, 2.9471375340150985e-10, 1.734558850718937e-11, 2.7577490291363915e-10, 1.6035409111658794e-11, 3.546063453725018e-13, 1.096769119968144e-09, 1.1169756959639177e-11, 1.926300896570865e-08, 1.6151562931554508e-07, 1.6801519064912895e-09, 2.6805486649794652e-11, 1.140239680452737e-09, 3.9435554821665164e-10, 3.438159132396201e-11, 2.491513662050693e-10, 5.185107204708217e-11, 1.7681323419282968e-11, 4.174535717105243e-11, 2.0747206036508814e-11, 6.560709753244964e-10, 9.996753425056681e-10, 4.621567850637831e-10, 9.137628154132216e-11, 1.9165169362622692e-07, 2.0408182088704763e-11, 1.1749250183878956e-10, 2.683230582167795e-10, 4.419014112966302e-11, 7.064942381118655e-12, 6.073091335379033e-11, 1.9504634019007483e-10, 3.0813129825446595e-10, 1.0112638504367055e-10, 4.767644612435618e-10, 3.3238654884026886e-11, 1.2627020956612611e-11, 1.9592330535722624e-10, 3.20372504566957e-12, 5.3116133019726064e-11, 4.489615901270838e-10, 1.3377586538521058e-10, 1.067444133084905e-09, 2.0092509253610835e-11, 1.4083196830938505e-09, 6.4631165003214974e-12, 1.3219280704801495e-11, 2.433050705352713e-10, 4.836392397677969e-10, 1.606504165807543e-11, 2.8726019826730287e-11, 2.115852604234192e-09, 6.79316464191615e-11, 1.3924630545836258e-11, 1.0473710787550772e-09, 7.190300438386643e-11, 1.55779920213428e-11, 3.7915164063928586e-11, 2.770317586442417e-10, 2.467855086951687e-11, 1.3076846550053034e-10, 1.1062337712530734e-09, 1.1067022853694652e-09, 8.541592433353173e-11, 2.9794269829075404e-10, 8.813400530216509e-12, 1.0694570229397016e-10, 5.03670456036831e-13, 3.50210943578233e-10, 8.988917943320018e-10, 1.2392491477442036e-09, 3.630539965882029e-11, 2.0471621620110625e-10, 1.982270077249826e-11, 1.6722478957120757e-10, 3.6912213285944517e-09, 1.2567445972777591e-09, 2.3692930950502955e-10, 8.771027654175256e-11, 9.7065314119682e-11, 4.2805314848237686e-11, 2.451927549884658e-10, 9.61152935019527e-10, 2.512313621028106e-11, 1.1071704664189497e-10, 7.872273145859143e-12, 1.5008206483146935e-11, 1.511533953557631e-10, 2.8448662869884345e-10, 4.7668240882314805e-11, 5.2458676291777806e-11, 1.1844721037324035e-10, 1.2504912383359823e-10, 2.3736730359047442e-09, 8.629397196813215e-11, 3.2883967771013545e-10, 1.5148704513023858e-10, 8.221720526613296e-11, 5.015341961178699e-11, 2.3141117494462904e-11, 9.166238601476806e-11, 4.056913915917448e-09, 2.924992062794396e-12, 2.2078892880639245e-10, 1.811881200630694e-09, 1.0806418260234096e-11, 6.585215706067515e-11, 6.370034361102839e-11, 1.7724451073508618e-10, 1.5495824068345598e-10, 1.4455601993201839e-10, 2.2892913953409533e-10, 3.090793593285568e-11, 4.55509900632034e-11, 4.8267133345714086e-11, 4.448038048998626e-10, 2.5214105109361284e-11, 6.46822595484764e-11, 1.819012475368087e-11, 9.681039303544026e-10, 6.567454219341684e-11, 3.61062429954373e-11, 4.5700868089859625e-10, 6.82143968047666e-12, 3.1204348133195836e-11, 1.1280784249431686e-12, 3.4624181299847123e-10, 1.2120378485580563e-11, 5.363684756759524e-12, 3.2090351209657086e-11, 8.742904178404842e-10, 1.4012231479287873e-11, 1.2025748175048534e-09, 1.9206847917674352e-11, 5.007026390724256e-11, 7.175052219032807e-11, 5.7460283059418416e-11, 2.1277528350349684e-11, 1.0625329061042521e-08, 8.217257430054303e-10, 6.956840881144899e-09, 5.247088527560173e-11, 2.3162491022410414e-11, 5.649833045850983e-09, 1.9726898933813963e-11, 6.169564165103836e-11, 2.0699366699850064e-12, 6.066993019082645e-10, 2.6976643141551904e-11, 2.6274766806722027e-09, 1.471767707705851e-10, 1.9075052301587014e-11, 1.016315937657497e-11, 1.844735891820548e-10, 3.3862565529396704e-11, 3.4596485832399937e-12, 3.473939538811699e-11, 4.921980045757834e-10, 1.5549700416173096e-11, 4.633775030349341e-10, 2.0641077735916724e-10, 1.0238870862266936e-10, 8.111893934348302e-10, 9.246076126956382e-12, 1.6846218864330353e-09, 2.7410140129857652e-11, 1.7183051856384246e-11, 1.9292652544966593e-11, 1.730088294848997e-11, 1.6645134706325115e-12, 4.714911794323484e-11, 2.2305273184031194e-09]\n"
          ]
        }
      ],
      "source": [
        "print(\"sınıflar: \", class_dict)\n",
        "print(\"olasılıklar: \", probs)"
      ]
    },
    {
      "cell_type": "code",
      "execution_count": null,
      "metadata": {
        "colab": {
          "base_uri": "https://localhost:8080/"
        },
        "id": "uCSgs-PYcUpW",
        "outputId": "753f9d43-83af-455f-be32-b956ce28b9ca"
      },
      "outputs": [
        {
          "name": "stdout",
          "output_type": "stream",
          "text": [
            "sonuç:  Blenheim_spaniel\n"
          ]
        }
      ],
      "source": [
        "print(\"sonuç: \", class_dict[np.argmax(probs)])"
      ]
    },
    {
      "cell_type": "markdown",
      "metadata": {
        "id": "QX98re0cdHm1"
      },
      "source": [
        "##Eğitim/Training"
      ]
    },
    {
      "cell_type": "code",
      "execution_count": null,
      "metadata": {
        "id": "SAC0v3fTdJz2"
      },
      "outputs": [],
      "source": [
        "!unzip /content/drive/MyDrive/yolov8_udemy/1_image_classification/dataset/covid_classification.zip -d ./data"
      ]
    },
    {
      "cell_type": "code",
      "execution_count": null,
      "metadata": {
        "id": "Mfl8nt8wf2Ju"
      },
      "outputs": [],
      "source": [
        "#eğitim yarıda kesilirse\n",
        "# !yolo classify train model=.../last.pt resume=True\n",
        "#kaldığı epochtan devam eder."
      ]
    },
    {
      "cell_type": "code",
      "execution_count": null,
      "metadata": {
        "colab": {
          "background_save": true,
          "base_uri": "https://localhost:8080/"
        },
        "id": "aB74CLsxemAb",
        "outputId": "c67c0c86-aaf4-4a56-d880-c4f65b2ad7ef"
      },
      "outputs": [
        {
          "name": "stdout",
          "output_type": "stream",
          "text": [
            "Ultralytics YOLOv8.1.27 🚀 Python-3.10.12 torch-2.1.0+cu121 CPU (Intel Xeon 2.20GHz)\n",
            "\u001b[34m\u001b[1mengine/trainer: \u001b[0mtask=classify, mode=train, model=yolov8l-cls.pt, data=data/covid_classification, epochs=1, time=None, patience=100, batch=16, imgsz=224, save=True, save_period=-1, cache=False, device=cpu, workers=8, project=None, name=yolov8_classification2, exist_ok=False, pretrained=True, optimizer=auto, verbose=True, seed=0, deterministic=True, single_cls=False, rect=False, cos_lr=False, close_mosaic=10, resume=False, amp=True, fraction=1.0, profile=False, freeze=None, multi_scale=False, overlap_mask=True, mask_ratio=4, dropout=0.0, val=True, split=val, save_json=False, save_hybrid=False, conf=None, iou=0.7, max_det=300, half=False, dnn=False, plots=True, source=None, vid_stride=1, stream_buffer=False, visualize=False, augment=False, agnostic_nms=False, classes=None, retina_masks=False, embed=None, show=False, save_frames=False, save_txt=False, save_conf=False, save_crop=False, show_labels=True, show_conf=True, show_boxes=True, line_width=None, format=torchscript, keras=False, optimize=False, int8=False, dynamic=False, simplify=False, opset=None, workspace=4, nms=False, lr0=0.01, lrf=0.01, momentum=0.937, weight_decay=0.0005, warmup_epochs=3.0, warmup_momentum=0.8, warmup_bias_lr=0.1, box=7.5, cls=0.5, dfl=1.5, pose=12.0, kobj=1.0, label_smoothing=0.0, nbs=64, hsv_h=0.015, hsv_s=0.7, hsv_v=0.4, degrees=0.0, translate=0.1, scale=0.5, shear=0.0, perspective=0.0, flipud=0.0, fliplr=0.5, mosaic=1.0, mixup=0.0, copy_paste=0.0, auto_augment=randaugment, erasing=0.4, crop_fraction=1.0, cfg=None, tracker=botsort.yaml, save_dir=runs/classify/yolov8_classification2\n",
            "\u001b[34m\u001b[1mtrain:\u001b[0m /content/drive/MyDrive/yolov8_udemy/1_image_classification/data/covid_classification/train... found 12121 images in 3 classes ✅ \n",
            "\u001b[34m\u001b[1mval:\u001b[0m /content/drive/MyDrive/yolov8_udemy/1_image_classification/data/covid_classification/val... found 1514 images in 3 classes ✅ \n",
            "\u001b[34m\u001b[1mtest:\u001b[0m /content/drive/MyDrive/yolov8_udemy/1_image_classification/data/covid_classification/test... found 1518 images in 3 classes ✅ \n",
            "2024-03-12 22:58:43.915154: E external/local_xla/xla/stream_executor/cuda/cuda_dnn.cc:9261] Unable to register cuDNN factory: Attempting to register factory for plugin cuDNN when one has already been registered\n",
            "2024-03-12 22:58:43.915251: E external/local_xla/xla/stream_executor/cuda/cuda_fft.cc:607] Unable to register cuFFT factory: Attempting to register factory for plugin cuFFT when one has already been registered\n",
            "2024-03-12 22:58:43.917862: E external/local_xla/xla/stream_executor/cuda/cuda_blas.cc:1515] Unable to register cuBLAS factory: Attempting to register factory for plugin cuBLAS when one has already been registered\n",
            "Overriding model.yaml nc=1000 with nc=3\n",
            "\n",
            "                   from  n    params  module                                       arguments                     \n",
            "  0                  -1  1      1856  ultralytics.nn.modules.conv.Conv             [3, 64, 3, 2]                 \n",
            "  1                  -1  1     73984  ultralytics.nn.modules.conv.Conv             [64, 128, 3, 2]               \n",
            "  2                  -1  3    279808  ultralytics.nn.modules.block.C2f             [128, 128, 3, True]           \n",
            "  3                  -1  1    295424  ultralytics.nn.modules.conv.Conv             [128, 256, 3, 2]              \n",
            "  4                  -1  6   2101248  ultralytics.nn.modules.block.C2f             [256, 256, 6, True]           \n",
            "  5                  -1  1   1180672  ultralytics.nn.modules.conv.Conv             [256, 512, 3, 2]              \n",
            "  6                  -1  6   8396800  ultralytics.nn.modules.block.C2f             [512, 512, 6, True]           \n",
            "  7                  -1  1   4720640  ultralytics.nn.modules.conv.Conv             [512, 1024, 3, 2]             \n",
            "  8                  -1  3  17836032  ultralytics.nn.modules.block.C2f             [1024, 1024, 3, True]         \n",
            "  9                  -1  1   1317123  ultralytics.nn.modules.head.Classify         [1024, 3]                     \n",
            "YOLOv8l-cls summary: 183 layers, 36203587 parameters, 36203587 gradients, 99.1 GFLOPs\n",
            "Transferred 300/302 items from pretrained weights\n",
            "\u001b[34m\u001b[1mTensorBoard: \u001b[0mStart with 'tensorboard --logdir runs/classify/yolov8_classification2', view at http://localhost:6006/\n",
            "\u001b[34m\u001b[1mtrain: \u001b[0mScanning /content/drive/MyDrive/yolov8_udemy/1_image_classification/data/covid_classification/train... 12121 images, 0 corrupt: 100% 12121/12121 [00:00<?, ?it/s]\n",
            "\u001b[34m\u001b[1mval: \u001b[0mScanning /content/drive/MyDrive/yolov8_udemy/1_image_classification/data/covid_classification/val... 1514 images, 0 corrupt: 100% 1514/1514 [00:00<?, ?it/s]\n",
            "\u001b[34m\u001b[1moptimizer:\u001b[0m 'optimizer=auto' found, ignoring 'lr0=0.01' and 'momentum=0.937' and determining best 'optimizer', 'lr0' and 'momentum' automatically... \n",
            "\u001b[34m\u001b[1moptimizer:\u001b[0m AdamW(lr=0.000714, momentum=0.9) with parameter groups 50 weight(decay=0.0), 51 weight(decay=0.0005), 51 bias(decay=0.0)\n",
            "\u001b[34m\u001b[1mTensorBoard: \u001b[0mmodel graph visualization added ✅\n",
            "Image sizes 224 train, 224 val\n",
            "Using 0 dataloader workers\n",
            "Logging results to \u001b[1mruns/classify/yolov8_classification2\u001b[0m\n",
            "Starting training for 1 epochs...\n",
            "\n",
            "      Epoch    GPU_mem       loss  Instances       Size\n",
            "        1/1         0G     0.5783         16        224:  48% 364/758 [1:29:17<1:34:58, 14.46s/it]"
          ]
        }
      ],
      "source": [
        "#eğitim\n",
        "!yolo classify train model=yolov8l-cls.pt data=data/covid_classification imgsz=224 workers=8 batch=16 device=cpu epochs=10 name=\"yolov8_classification\""
      ]
    },
    {
      "cell_type": "code",
      "execution_count": null,
      "metadata": {
        "id": "0ufVZwMHgQVE"
      },
      "outputs": [],
      "source": []
    }
  ],
  "metadata": {
    "accelerator": "GPU",
    "colab": {
      "gpuType": "T4",
      "provenance": []
    },
    "kernelspec": {
      "display_name": "Python 3",
      "name": "python3"
    },
    "language_info": {
      "name": "python"
    }
  },
  "nbformat": 4,
  "nbformat_minor": 0
}